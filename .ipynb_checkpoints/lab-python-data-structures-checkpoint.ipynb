{
 "cells": [
  {
   "cell_type": "markdown",
   "metadata": {
    "tags": []
   },
   "source": [
    "# Lab | Data Structures "
   ]
  },
  {
   "cell_type": "markdown",
   "metadata": {},
   "source": [
    "## Exercise: Managing Customer Orders\n",
    "\n",
    "As part of a business venture, you are starting an online store that sells various products. To ensure smooth operations, you need to develop a program that manages customer orders and inventory.\n",
    "\n",
    "Follow the steps below to complete the exercise:\n",
    "\n",
    "1. Define a list called `products` that contains the following items: \"t-shirt\", \"mug\", \"hat\", \"book\", \"keychain\".\n",
    "\n",
    "2. Create an empty dictionary called `inventory`.\n",
    "\n",
    "3. Ask the user to input the quantity of each product available in the inventory. Use the product names from the `products` list as keys in the `inventory` dictionary and assign the respective quantities as values.\n",
    "\n",
    "4. Create an empty set called `customer_orders`.\n",
    "\n",
    "5. Ask the user to input the name of three products that a customer wants to order (from those in the products list, meaning three products out of \"t-shirt\", \"mug\", \"hat\", \"book\" or \"keychain\". Add each product name to the `customer_orders` set.\n",
    "\n",
    "6. Print the products in the `customer_orders` set.\n",
    "\n",
    "7. Calculate the following order statistics:\n",
    "   - Total Products Ordered: The total number of products in the `customer_orders` set.\n",
    "   - Percentage of Products Ordered: The percentage of products ordered compared to the total available products.\n",
    "   \n",
    "   Store these statistics in a tuple called `order_status`.\n",
    "\n",
    "8. Print the order statistics using the following format:\n",
    "   ```\n",
    "   Order Statistics:\n",
    "   Total Products Ordered: <total_products_ordered>\n",
    "   Percentage of Products Ordered: <percentage_ordered>% \n",
    "   ```\n",
    "\n",
    "9. Update the inventory by subtracting 1 from the quantity of each product. Modify the `inventory` dictionary accordingly.\n",
    "\n",
    "10. Print the updated inventory, displaying the quantity of each product on separate lines.\n",
    "\n",
    "Solve the exercise by implementing the steps using the Python concepts of lists, dictionaries, sets, and basic input/output operations. "
   ]
  },
  {
   "cell_type": "code",
   "execution_count": 1,
   "metadata": {},
   "outputs": [
    {
     "name": "stdout",
     "output_type": "stream",
     "text": [
      "['t-shirt', 'mug', 'hat', 'book', 'keychain']\n"
     ]
    }
   ],
   "source": [
    "# 1. Define a list called `products` that contains the following items: \"t-shirt\", \"mug\", \"hat\", \"book\", \"keychain\".\n",
    "products = [\"t-shirt\", \"mug\", \"hat\", \"book\", \"keychain\"]\n",
    "print(products)"
   ]
  },
  {
   "cell_type": "code",
   "execution_count": 3,
   "metadata": {},
   "outputs": [],
   "source": [
    "# 2. Create an empty dictionary called `inventory`.\n",
    "inventory = {}"
   ]
  },
  {
   "cell_type": "code",
   "execution_count": 63,
   "metadata": {},
   "outputs": [
    {
     "name": "stdin",
     "output_type": "stream",
     "text": [
      "How many t-shirts are available? 1\n",
      "How many mugs are available? 2\n",
      "How many hats are available? 3\n",
      "How many books are available? 4\n",
      "How many keychains are available? 5\n"
     ]
    },
    {
     "name": "stdout",
     "output_type": "stream",
     "text": [
      "{'t-shirt': 1, 'mug': 2, 'hat': 3, 'book': 4, 'keychain': 5}\n"
     ]
    }
   ],
   "source": [
    "#3 manualversion\n",
    "tshirtQ = int(input(\"How many t-shirts are available?\"))\n",
    "mugQ = int(input(\"How many mugs are available?\"))\n",
    "hatQ = int(input(\"How many hats are available?\"))\n",
    "bookQ = int(input(\"How many books are available?\"))\n",
    "keychainQ = int(input(\"How many keychains are available?\"))   \n",
    "\n",
    "inventory[\"t-shirt\"] = tshirtQ\n",
    "inventory[\"mug\"] = mugQ\n",
    "inventory[\"hat\"] = hatQ\n",
    "inventory[\"book\"] = bookQ\n",
    "inventory[\"keychain\"] = keychainQ\n",
    "\n",
    "print(inventory)\n"
   ]
  },
  {
   "cell_type": "code",
   "execution_count": 39,
   "metadata": {},
   "outputs": [
    {
     "name": "stdout",
     "output_type": "stream",
     "text": [
      "{'t-shirt': 5, 'mug': 5, 'hat': 5, 'book': 5, 'keychain': 5}\n"
     ]
    }
   ],
   "source": [
    "print(inventory)"
   ]
  },
  {
   "cell_type": "code",
   "execution_count": 23,
   "metadata": {},
   "outputs": [
    {
     "name": "stdin",
     "output_type": "stream",
     "text": [
      "How many items of t-shirt are available? 5\n",
      "How many items of mug are available? 5\n",
      "How many items of hat are available? 5\n",
      "How many items of book are available? 5\n",
      "How many items of keychain are available? 5\n"
     ]
    },
    {
     "name": "stdout",
     "output_type": "stream",
     "text": [
      "Inventory: {'t-shirt': 5, 'mug': 5, 'hat': 5, 'book': 5, 'keychain': 5}\n"
     ]
    }
   ],
   "source": [
    "# 3 alternative version with loops\n",
    "for product in products:\n",
    "    quantity = int(input(f\"How many items of {product} are available?\"))\n",
    "    inventory[product] = quantity\n",
    "print(\"Inventory:\", inventory)"
   ]
  },
  {
   "cell_type": "code",
   "execution_count": 53,
   "metadata": {},
   "outputs": [],
   "source": [
    "# 4. Create an empty set called `customer_orders`.\n",
    "customer_orders = set()"
   ]
  },
  {
   "cell_type": "code",
   "execution_count": 61,
   "metadata": {},
   "outputs": [
    {
     "name": "stdin",
     "output_type": "stream",
     "text": [
      "Which of these ['t-shirt', 'mug', 'hat', 'book', 'keychain'] do you want to order? book\n"
     ]
    },
    {
     "name": "stdout",
     "output_type": "stream",
     "text": [
      "book\n"
     ]
    },
    {
     "name": "stdin",
     "output_type": "stream",
     "text": [
      "Which of these ['t-shirt', 'mug', 'hat', 'book', 'keychain'] do you want to order? hat\n"
     ]
    },
    {
     "name": "stdout",
     "output_type": "stream",
     "text": [
      "hat\n"
     ]
    },
    {
     "name": "stdin",
     "output_type": "stream",
     "text": [
      "Which of these ['t-shirt', 'mug', 'hat', 'book', 'keychain'] do you want to order? mug\n"
     ]
    },
    {
     "name": "stdout",
     "output_type": "stream",
     "text": [
      "mug\n",
      "{'hat', 'mug', 'book'}\n"
     ]
    }
   ],
   "source": [
    "# 5. Ask the user to input the name of three products that a customer wants to order (from those in the products list: \"t-shirt\", \"mug\", \"hat\", \"book\" or \"keychain\"). \n",
    "# Add each product name to the `customer_orders` set.\n",
    "\n",
    "\n",
    "order1 = input(f\"Which of these {products} do you want to order?\")\n",
    "print(order1)\n",
    "\n",
    "order2 = input(f\"Which of these {products} do you want to order?\")\n",
    "print(order2)\n",
    "\n",
    "order3 = input(f\"Which of these {products} do you want to order?\")\n",
    "print(order3)\n",
    "\n",
    "customer_orders.add(order1)\n",
    "customer_orders.add(order2)\n",
    "customer_orders.add(order3)\n",
    "\n",
    "# 6. Print the products in the `customer_orders` set.\n",
    "print(customer_orders)     "
   ]
  },
  {
   "cell_type": "code",
   "execution_count": 99,
   "metadata": {},
   "outputs": [
    {
     "name": "stdout",
     "output_type": "stream",
     "text": [
      "3\n",
      "The total number of products ordered is: 3\n",
      "60.0\n",
      "The percentage of products ordered compared to the total available products is: 60.0\n",
      "(3, 60.0)\n"
     ]
    }
   ],
   "source": [
    "# 7. Calculate the following order statistics:\n",
    "# - Total Products Ordered: The total number of products in the `customer_orders` set.\n",
    "# - Percentage of Products Ordered: The percentage of products ordered compared to the total available products.\n",
    "# Store these statistics in a tuple called `order_status`.\n",
    "total_products_ordered = len(customer_orders)\n",
    "print(total_products_ordered) \n",
    "print(\"The total number of products ordered is:\", len(customer_orders))\n",
    "\n",
    "percentage_ordered = len(customer_orders)/ len(products) * 100\n",
    "print(percentage_ordered) \n",
    "print(\"The percentage of products ordered compared to the total available products is:\", len(customer_orders)/ len(products) * 100)\n",
    "\n",
    "order_status = (total_products_ordered, percentage_ordered)\n",
    "print(order_status)"
   ]
  },
  {
   "cell_type": "code",
   "execution_count": 111,
   "metadata": {},
   "outputs": [
    {
     "name": "stdout",
     "output_type": "stream",
     "text": [
      "Order Statistics: Total Products Ordered: 3 Percentage of Products Ordered: 60.0\n"
     ]
    }
   ],
   "source": [
    "# 8. Print the order statistics using the following format:\n",
    "  # Order Statistics:\n",
    "  # Total Products Ordered: <total_products_ordered>\n",
    "  # Percentage of Products Ordered: <percentage_ordered>% \n",
    "\n",
    "print(f\"Order Statistics: Total Products Ordered: {total_products_ordered} Percentage of Products Ordered: {percentage_ordered}\")"
   ]
  },
  {
   "cell_type": "code",
   "execution_count": 113,
   "metadata": {},
   "outputs": [
    {
     "name": "stdout",
     "output_type": "stream",
     "text": [
      "{'t-shirt': 0, 'mug': 1, 'hat': 2, 'book': 3, 'keychain': 4}\n"
     ]
    }
   ],
   "source": [
    "# 9. Update the inventory by subtracting 1 from the quantity of each product. Modify the `inventory` dictionary accordingly.\n",
    "inventory[\"t-shirt\"]-=1\n",
    "inventory[\"mug\"]-=1\n",
    "inventory[\"hat\"]-=1\n",
    "inventory[\"book\"]-=1\n",
    "inventory[\"keychain\"]-=1\n",
    "print(inventory)\n",
    "\n",
    "# output correct: {'t-shirt': 0, 'mug': 1, 'hat': 2, 'book': 3, 'keychain': 4}"
   ]
  },
  {
   "cell_type": "code",
   "execution_count": 117,
   "metadata": {},
   "outputs": [
    {
     "name": "stdout",
     "output_type": "stream",
     "text": [
      "tshirt: 0\n",
      "mug: 1\n",
      "hat: 2\n",
      "book: 3\n",
      "keychain: 4\n"
     ]
    }
   ],
   "source": [
    "# 10. Print the updated inventory, displaying the quantity of each product on separate lines.\n",
    "print(\"tshirt:\", inventory[\"t-shirt\"])\n",
    "print(\"mug:\", inventory[\"mug\"])\n",
    "print(\"hat:\", inventory[\"hat\"])\n",
    "print(\"book:\", inventory[\"book\"])\n",
    "print(\"keychain:\", inventory[\"keychain\"])"
   ]
  }
 ],
 "metadata": {
  "kernelspec": {
   "display_name": "Python [conda env:base] *",
   "language": "python",
   "name": "conda-base-py"
  },
  "language_info": {
   "codemirror_mode": {
    "name": "ipython",
    "version": 3
   },
   "file_extension": ".py",
   "mimetype": "text/x-python",
   "name": "python",
   "nbconvert_exporter": "python",
   "pygments_lexer": "ipython3",
   "version": "3.12.7"
  }
 },
 "nbformat": 4,
 "nbformat_minor": 4
}
